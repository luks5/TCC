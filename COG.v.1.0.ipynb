{
 "cells": [
  {
   "cell_type": "code",
   "execution_count": 1,
   "metadata": {
    "collapsed": false
   },
   "outputs": [],
   "source": [
    "#Importing libraries\n",
    "\n",
    "import numpy as np\n",
    "import matplotlib.pyplot as plt\n",
    "from mpl_toolkits.mplot3d import Axes3D\n",
    "from scipy.optimize import minimize\n",
    "from scipy.optimize import fmin\n",
    "\n",
    "%matplotlib inline"
   ]
  },
  {
   "cell_type": "code",
   "execution_count": 2,
   "metadata": {
    "collapsed": true
   },
   "outputs": [],
   "source": [
    "#Setting plot sizes\n",
    "plt.rcParams['figure.figsize'] = (10, 2)  # (width, height)\n",
    "plt.rcParams['font.size'] = 20\n",
    "plt.rcParams['legend.fontsize'] = 16"
   ]
  },
  {
   "cell_type": "code",
   "execution_count": 3,
   "metadata": {
    "collapsed": false
   },
   "outputs": [],
   "source": [
    "x = [2, 5, 9, 7, 2]\n",
    "y = [1, 2, 1, 4, 5]\n",
    "m = [300, 500, 170, 120, 900]\n",
    "t = [0.002, 0.0015, 0.002, 0.0013, 0.0015]"
   ]
  },
  {
   "cell_type": "code",
   "execution_count": 4,
   "metadata": {
    "collapsed": false
   },
   "outputs": [],
   "source": [
    "#Determining total costs\n",
    "k = 50\n",
    "def totalcost(a):\n",
    "    tc = np.sum(np.array(t)*np.array(m)*k*(((np.array(x)-a[0])**2)+((np.array(y)-a[1])**2))**0.5)\n",
    "    print(\"Custo = {}, X = {}, Y = {}\".format(tc, a[0], a[1]))\n",
    "    return tc"
   ]
  },
  {
   "cell_type": "code",
   "execution_count": null,
   "metadata": {
    "collapsed": false
   },
   "outputs": [],
   "source": [
    "a = [2, 0]\n",
    "print(totalcost(a))"
   ]
  },
  {
   "cell_type": "code",
   "execution_count": 6,
   "metadata": {
    "collapsed": false
   },
   "outputs": [
    {
     "name": "stdout",
     "output_type": "stream",
     "text": [
      "Custo = 672.8606946835889, X = 2.0, Y = 0.0\n",
      "Custo = 672.8606946835889, X = 2.0, Y = 0.0\n",
      "Custo = 672.8606938771112, X = 2.000000014901161, Y = 0.0\n",
      "Custo = 672.8606928123303, X = 2.0, Y = 1.4901161193847656e-08\n",
      "Custo = 21298.205005092193, X = 56.121803283691406, Y = 125.57804107666016\n",
      "Custo = 4656.818218081024, X = 14.86765252559773, Y = 29.856628925492977\n",
      "Custo = 915.4559291257294, X = 5.393143348315784, Y = 7.873061666853112\n",
      "Custo = 438.23283247356744, X = 3.4056862241961836, Y = 3.2615935111717844\n",
      "Custo = 438.23283247356744, X = 3.4056862241961836, Y = 3.2615935111717844\n",
      "Custo = 438.23283255508187, X = 3.405686239097345, Y = 3.2615935111717844\n",
      "Custo = 438.23283248941726, X = 3.4056862241961836, Y = 3.2615935260729456\n",
      "Custo = 812.8149563964969, X = -0.6991702648868392, Y = 5.105049261732249\n",
      "Custo = 438.23864635751664, X = 2.9952005752878814, Y = 3.445939086227831\n",
      "Custo = 437.70504695559083, X = 3.2010239959675792, Y = 3.3535055579276065\n",
      "Custo = 437.70504695559083, X = 3.2010239959675792, Y = 3.3535055579276065\n",
      "Custo = 437.70504695571, X = 3.2010240108687404, Y = 3.3535055579276065\n",
      "Custo = 437.70504695288344, X = 3.2010239959675792, Y = 3.3535055728287677\n",
      "Custo = 437.7041205165393, X = 3.1956807441184285, Y = 3.3622185586008464\n",
      "Custo = 437.7041205165393, X = 3.1956807441184285, Y = 3.3622185586008464\n",
      "Custo = 437.70412051627613, X = 3.1956807590195897, Y = 3.3622185586008464\n",
      "Custo = 437.70412051598714, X = 3.1956807441184285, Y = 3.3622185735020076\n",
      "Custo = 437.7040952757639, X = 3.195351152700355, Y = 3.363739909005708\n",
      "Custo = 437.7040952757639, X = 3.195351152700355, Y = 3.363739909005708\n",
      "Custo = 437.70409527576896, X = 3.1953511676015163, Y = 3.363739909005708\n",
      "Custo = 437.70409527576567, X = 3.195351152700355, Y = 3.363739923906869\n",
      "437.704095276\n"
     ]
    }
   ],
   "source": [
    "sol = minimize(totalcost, (2, 0), method='SLSQP')\n",
    "print(sol.fun)\n",
    "\n"
   ]
  },
  {
   "cell_type": "code",
   "execution_count": null,
   "metadata": {
    "collapsed": false,
    "scrolled": true
   },
   "outputs": [],
   "source": [
    "#Plotting the results\n",
    "\n",
    "plt.rcParams['figure.figsize'] = (6, 10)  # (width, height)\n",
    "plt.scatter(x,y,s=m);\n",
    "plt.scatter(sol.x[0], sol.x[1], color='k', marker='+', s=1e3);\n",
    "plt.title('Facility location');\n",
    "\n",
    "print(\"The facility will be located in the following coordinates: {} x, {} in y\".format(sol.x[0], sol.x[1]))"
   ]
  },
  {
   "cell_type": "code",
   "execution_count": null,
   "metadata": {
    "collapsed": true
   },
   "outputs": [],
   "source": []
  }
 ],
 "metadata": {
  "kernelspec": {
   "display_name": "Python 3",
   "language": "python",
   "name": "python3"
  },
  "language_info": {
   "codemirror_mode": {
    "name": "ipython",
    "version": 3
   },
   "file_extension": ".py",
   "mimetype": "text/x-python",
   "name": "python",
   "nbconvert_exporter": "python",
   "pygments_lexer": "ipython3",
   "version": "3.6.0"
  }
 },
 "nbformat": 4,
 "nbformat_minor": 2
}
