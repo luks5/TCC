{
 "cells": [
  {
   "cell_type": "code",
   "execution_count": 9,
   "metadata": {
    "collapsed": false
   },
   "outputs": [],
   "source": [
    "#Importing libraries\n",
    "\n",
    "import numpy as np\n",
    "import matplotlib.pyplot as plt\n",
    "from mpl_toolkits.mplot3d import Axes3D"
   ]
  },
  {
   "cell_type": "code",
   "execution_count": 17,
   "metadata": {
    "collapsed": true
   },
   "outputs": [],
   "source": [
    "%matplotlib inline"
   ]
  },
  {
   "cell_type": "code",
   "execution_count": 10,
   "metadata": {
    "collapsed": true
   },
   "outputs": [],
   "source": [
    "#Setting plot sizes\n",
    "plt.rcParams['figure.figsize'] = (10, 2)  # (width, height)\n",
    "plt.rcParams['font.size'] = 20\n",
    "plt.rcParams['legend.fontsize'] = 16"
   ]
  },
  {
   "cell_type": "code",
   "execution_count": 14,
   "metadata": {
    "collapsed": false
   },
   "outputs": [],
   "source": [
    "#Setting random variables, later this will be replaced by user fed data\n",
    "\n",
    "#number of points\n",
    "n = 20\n",
    "\n",
    "#X coordinates\n",
    "x = np.random.randint(-50, 50, n)\n",
    "\n",
    "#Y coordinates\n",
    "y = np.random.randint(-50, 50, n)\n",
    "\n",
    "#Volume of transportation in each coordinate\n",
    "m = np.random.randint(100, 200, n)\n",
    "\n",
    "#Transportation costs\n",
    "t = np.random.randint(0, 5, n)"
   ]
  },
  {
   "cell_type": "code",
   "execution_count": 15,
   "metadata": {
    "collapsed": false
   },
   "outputs": [],
   "source": [
    "#Determining center of gravity for each coordinate\n",
    "\n",
    "cgx = np.sum(x*m)/np.sum(m)\n",
    "\n",
    "cgy = np.sum(y*m)/np.sum(m)"
   ]
  },
  {
   "cell_type": "code",
   "execution_count": 24,
   "metadata": {
    "collapsed": false
   },
   "outputs": [
    {
     "name": "stdout",
     "output_type": "stream",
     "text": [
      "The center of mass is -5.022366288492707 in x and -5.392544570502431 in y\n"
     ]
    },
    {
     "data": {
      "image/png": "[encoded data removed]",
      "text/plain": [
       "<matplotlib.figure.Figure at 0x23375c0d898>"
      ]
     },
     "metadata": {},
     "output_type": "display_data"
    }
   ],
   "source": [
    "#Plotting the results\n",
    "\n",
    "plt.rcParams['figure.figsize'] = (6, 10)  # (width, height)\n",
    "plt.scatter(x,y,s=m);\n",
    "plt.scatter(cgx, cgy, color='k', marker='+', s=1e3);\n",
    "plt.title('2 Dimensional Center of Gravity');\n",
    "\n",
    "print(\"The center of mass is {} in x and {} in y\".format(cgx, cgy))"
   ]
  },
  {
   "cell_type": "code",
   "execution_count": null,
   "metadata": {
    "collapsed": true
   },
   "outputs": [],
   "source": [
    "#Determining total costs\n"
   ]
  }
 ],
 "metadata": {
  "kernelspec": {
   "display_name": "Python 3",
   "language": "python",
   "name": "python3"
  },
  "language_info": {
   "codemirror_mode": {
    "name": "ipython",
    "version": 3
   },
   "file_extension": ".py",
   "mimetype": "text/x-python",
   "name": "python",
   "nbconvert_exporter": "python",
   "pygments_lexer": "ipython3",
   "version": "3.6.0"
  }
 },
 "nbformat": 4,
 "nbformat_minor": 2
}
